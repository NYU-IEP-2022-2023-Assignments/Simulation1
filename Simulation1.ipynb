{
  "nbformat": 4,
  "nbformat_minor": 0,
  "metadata": {
    "colab": {
      "provenance": [],
      "collapsed_sections": [],
      "include_colab_link": true
    },
    "kernelspec": {
      "name": "python3",
      "display_name": "Python 3"
    },
    "language_info": {
      "name": "python"
    }
  },
  "cells": [
    {
      "cell_type": "markdown",
      "metadata": {
        "id": "view-in-github",
        "colab_type": "text"
      },
      "source": [
        "<a href=\"https://colab.research.google.com/github/NYU-IEP-2022-2023-Assignments/Simulation1/blob/main/Simulation1.ipynb\" target=\"_parent\"><img src=\"https://colab.research.google.com/assets/colab-badge.svg\" alt=\"Open In Colab\"/></a>"
      ]
    },
    {
      "cell_type": "markdown",
      "source": [
        "#Simulation 1 - Integrating the pendulum differential equation in 1D "
      ],
      "metadata": {
        "id": "Y7g78qD4u4Us"
      }
    },
    {
      "cell_type": "code",
      "execution_count": null,
      "metadata": {
        "id": "G_Z3mlmuu3WM"
      },
      "outputs": [],
      "source": [
        "#run me first\n",
        "import numpy as np\n",
        "import matplotlib.pyplot as plt\n",
        "from scipy.integrate import solve_ivp"
      ]
    },
    {
      "cell_type": "markdown",
      "source": [
        "##Write a function to do one step of the differential equation\n",
        "\n",
        "###$F = m a$\n",
        "If $x(t)$ is the displacement along the arc of the pendulum (almost but not exactly the horizontal displacement), then $x$ obeys this equation of motion \n",
        "\n",
        "$m \\frac{d^2 x}{d t^2} = - m g \\sin(\\frac{x}{L})$\n",
        "\n",
        "If we approximate $\\sin(\\frac{x}{L})$ as $\\frac{x}{L}$ can rewrite this equation as\n",
        "\n",
        "$\\frac{d^2 x}{d t^2} = - \\omega^2 x$ ; $\\omega^2 = \\frac{g}{L}$\n",
        "\n",
        "### Get rid of the units\n",
        "\n",
        "When you run computer code, the numbers lose their units. IE t = 3 could be seconds, microseconds, etc. A lot of numerical simulation code tends to work the best when all the numbers are around 1. For both of these reasons, it's usually best to do a change of variables to get rid of as many dimensionful quantities as you can. Here, we want to get rid of the constant $\\omega^2$. \n",
        "\n",
        "To do this, make a change of variables $s = \\omega t$, then $\\frac{d}{dt} = \\frac{d}{ds}\\frac{ds}{dt} = \\omega \\frac{d}{ds}$ (check that the units work out!)\n",
        "\n",
        "Then\n",
        "$\\frac{d^2 x}{d s^2} = - x$ \n",
        "\n",
        "### Get rid of higer order derivatives\n",
        "\n",
        "If I know $\\frac{dx}{ds} = f(x)$, then I know approximately that $x(s+\\Delta s) = x(s) + f(x) \\Delta s$ But what do I do with $\\frac{d^2x}{ds^2} = g(x)$? The trick is to write down a *system of equations* that only has first derivatives. \n",
        "\n",
        "Let me first define\n",
        "\n",
        "$\\frac{d x}{d s} \\equiv v$\n",
        "\n",
        "where $v$ is a new variable. If I knew $v$, I would know that $x(s + \\Delta s) = x(s) + v\\Delta s$. So now I also need to write down an equation that describes how $v$ changes in time. \n",
        "\n",
        "$\\frac{d v}{d s} = \\frac{d}{d s} (\\frac{d x}{d s}) = \\frac{d^2 x}{d s^2}$.\n",
        "\n",
        "From the pendulum equation above, I know that $\\frac{d^2 x}{d s^2} = - x$, which means $\\frac{d v}{d s} = -x$\n",
        "\n",
        "So instead of one *second order* differential equation\n",
        "\n",
        "$\\frac{d^2 x}{d s^2} = - x$ \n",
        "\n",
        "I would write two *first order* equations:\n",
        "\n",
        "$\\frac{d x}{d s} = v$\n",
        "\n",
        "$\\frac{d v}{d s} = - x$\n",
        "\n",
        "Then to move forward one small step in time, I would write\n",
        "\n",
        "$x(s + \\Delta s) = x(s) + v* \\Delta s$\n",
        "\n",
        "$v(s + \\Delta s) = v(s) - x* \\Delta s$\n",
        "\n",
        "So let's turn this set of equations into a python function"
      ],
      "metadata": {
        "id": "r14ZwxPTvb-L"
      }
    },
    {
      "cell_type": "code",
      "source": [
        "##finish one line of code to complete this function\n",
        "\n",
        "def oneLinearPendulumStep(x, v, ds):\n",
        "  #x is the position at time s\n",
        "  #v is the velocity at time s\n",
        "  #returns position and velocity at time s + ds according to\n",
        "  #x(s+ds) = x(s) + v ds\n",
        "  #v(s+ds) = v(s) - x ds\n",
        "\n",
        "  xout = x + v * ds\n",
        "  vout = #you finish this line\n",
        "\n",
        "  return (xout, vout)"
      ],
      "metadata": {
        "id": "K6SoRzV29gaK"
      },
      "execution_count": null,
      "outputs": []
    },
    {
      "cell_type": "markdown",
      "source": [
        "##Integrate the differential equation\n",
        "So now we seem to have a simple path forward to solve the pendulum ode\n",
        "\n",
        "1. Start with intital x0, v0 at s = 0\n",
        "1. Run oneLinearPendulum step to find x(ds),v(ds)\n",
        "  1. Repeat to find x(2ds),v(2ds) \n",
        "  1. Repeat to find x(3ds),v(3ds)\n",
        "  1. Continue repeating until you have made it to N ds where N ds = S is how long (in non-dimensional time*) you want to simulate\n",
        "1. As you go, store the results in an array so you can plot them later\n",
        "\n",
        "*What is the relation between S and real time? If I want to simulate 10 periods, what is the value of S I should go to?\n",
        "\n",
        "Let's go ahead and do this and see what happens"
      ],
      "metadata": {
        "id": "VGQvN8XL-iop"
      }
    },
    {
      "cell_type": "code",
      "source": [
        "##finish one line here\n",
        "\n",
        "def simulatePendulumBasic (x0, v0, ds, S):\n",
        "  #simulates the motion of a pendulum starting with x(0) = x0, v(0) = v0, in time steps of ds from 0 to S\n",
        "  #returns (x, v, s)\n",
        "  N = int(np.ceil(S/ds)) #calculate number of steps\n",
        "\n",
        "  #initialize memory storage\n",
        "  x = np.zeros(N)\n",
        "  v = np.zeros(N)\n",
        "  s = np.zeros(N)\n",
        "\n",
        "  x[0] = x0\n",
        "  v[0] = v0\n",
        "  for j in range(1,N):\n",
        "    s[j] = s[j-1] + ds\n",
        "    (x[j],v[j]) = #you finish this line - hint: use oneLinearPendulumStep\n",
        "\n",
        "  return (x,v,s)"
      ],
      "metadata": {
        "id": "puk_ju4U_0jK"
      },
      "execution_count": null,
      "outputs": []
    },
    {
      "cell_type": "markdown",
      "source": [
        "Let's test out your function by running the following block, which will calculate the numeric solution over one period in steps of 0.001 and plot the numeric and analytic ($x = \\cos(s)$) solutions together"
      ],
      "metadata": {
        "id": "2qTr8iGfXuzd"
      }
    },
    {
      "cell_type": "code",
      "source": [
        "##test your function by running this code block; if it works you should see that the analytic solution matches the numerical solution\n",
        "[x,v,s] = simulatePendulumBasic(1,0,.001,2*np.pi)\n",
        "plt.plot(s,x,'m.',s,np.cos(s),'c-', LineWidth = 2.5)\n",
        "plt.legend(('numeric','analytic'))"
      ],
      "metadata": {
        "id": "3sRf5nUzXINe"
      },
      "execution_count": null,
      "outputs": []
    },
    {
      "cell_type": "markdown",
      "source": [
        "Now I want you to do the same thing, but instead of solving for one period, solve for 500 periods, in steps of ds = 0.001. What happens? "
      ],
      "metadata": {
        "id": "Vfv2-3IlY22u"
      }
    },
    {
      "cell_type": "code",
      "source": [
        "##your code here"
      ],
      "metadata": {
        "id": "AqqZySBSBL5C"
      },
      "execution_count": null,
      "outputs": []
    },
    {
      "cell_type": "markdown",
      "source": [
        "#Use the scipy numerical integrator\n",
        "\n",
        "OK, so it looks like the simple approach has some issues with stability. Fortunately, there's a whole body of work on how to do numeric integration without these little blow ups. And even more fortunately, Python includes code that does exactly this. \n",
        "\n",
        "Scipy includes a function called [solve ivp](https://docs.scipy.org/doc/scipy/reference/generated/scipy.integrate.solve_ivp.html) \n",
        "\n",
        "Solve ivp stands for solve initial value problem; you give it a differential equation and the initial values (e.g. of position and velocity) and it finds all future values\n",
        "\n",
        "From the documentation: This function numerically integrates a system of ordinary differential equations given an initial value:\n",
        "\n",
        "$\\frac{d \\vec{y}}{d t} = f(t,\\vec{y})$\n",
        "\n",
        "$\\vec{y}(t_{init}) = \\vec{y}_{init}$\n",
        "\n",
        "Here I've written $y$ as a vector, $\\vec{y}$ to emphasize that there may be more than one y value in the solution. $t_{init}$ is the initial time, which is usually 0, but doesn't have to be. \n",
        "\n",
        "Moving forward, although the documentation uses $t$ for time, I'm going to use $s$, to keep track of the fact that we'll make time non-dimensional ($s = \\omega t$) before we plug it into the solver.\n",
        "\n",
        "How do we turn our two values (position and velocity) into a vector? In our pendulum example, we would begin with our system of equations\n",
        "\n",
        "$\\frac{d x}{d s} = v(s)$\n",
        "\n",
        "$\\frac{d v}{d s} = - x(s)$\n",
        "\n",
        "$x(s_{init}) = x_{init}$\n",
        "\n",
        "$v(s_{init}) = v_{init}$\n",
        "\n",
        "and we would just arbitrarily (although this is also very conventional) say \n",
        "\n",
        "$\\vec{y}(s) = (x(s),v(s))$\n",
        "\n",
        "$\\vec{y}_{init} = (x_{init},v_{init})$\n",
        "\n",
        "Then we can write \n",
        "\n",
        "$\\frac{d \\vec{y}}{d s} = (\\frac{d x}{d s}, \\frac{d v}{d s}) = (v(s),-x(s)) = (y_1(s), -y_0(s))$\n",
        "\n",
        "So if $\\frac{d \\vec{y}}{d t} = f(t,\\vec{y})$, then\n",
        "\n",
        "$f(s,\\vec{y}) = (y_1(s), -y_0(s))$\n",
        "\n",
        "Note that even though $s$ appears on the left side, it doesn't appear by itself on the right. This is because our specific equations of motion don't have explicit time dependence. An example where $s$ would appear on the right is if we were applying a periodic force by pushing the pendulum at particular times (we won't do that yet!). **Even if your derivative function doesn't use s, you have to include both arguments in the function definition**\n",
        "\n",
        "####Mapping between math notation and python notation\n",
        "\n",
        "In math, I write $\\vec{y}(s) = (y_0(s), y_1(s))$ to indicate I have two components of the vector $\\vec{y}$, each of which depends on s. Sometimes I write $\\vec{y} = (y_0, y_1)$, and the s-dependece is understood. When I turn this into python notation, the $(s)$ is always understood, and I write the first component as ```y[0]``` and the second component as ```y[1]```\n",
        "\n",
        "In math, I write\n",
        "\n",
        "$\\frac{d \\vec{y}}{d s} = f(s,\\vec{y})$\n",
        "\n",
        "$f(s,\\vec{y}) = (y_1, -y_0)$\n",
        "\n",
        "\n",
        "In python, I write\n",
        "\n",
        "``` pendulum_derivative_function (t_unused,y): return (y[1],-y[0])```\n",
        "\n",
        "At a minimum solve ivp takes 3 inputs and returns an output \"bunch object\" which just basically stores all the parts of the answer by name:\n",
        "\n",
        "\n",
        "```\n",
        "sol = solve_ivp(fun, t_span, y0)\n",
        "#fun is the derivative function dydt = fun(t,y)\n",
        "#t_span is (initial_time, final_time)\n",
        "#y0 is the initial condition\n",
        "\n",
        "#sol.t has the time value\n",
        "#sol.y has the solution\n",
        "plt.plot(sol.t, sol.y[0]) #would plot position vs. time, if y[0] represents position\n",
        "```\n",
        "\n",
        "Below is a minimum working example so you can see how to use the numerical integrator - you don't have to edit this code"
      ],
      "metadata": {
        "id": "b8UdtGXiy8yX"
      }
    },
    {
      "cell_type": "code",
      "source": [
        "def pendulum_derivative_function (t_unused,y): return (y[1],-y[0]) #y[0] = position, y[1] = velocity; encodes relation dposition/dt = velocity, dvelocity/dt = -position\n",
        "y0 = (1,0) #initial position = 1, initial velocity = 0 - should look like a cosine\n",
        "t_span = (0,10) #go from s = 0 to s = 10\n",
        "sol = solve_ivp(pendulum_derivative_function, t_span, y0)\n",
        "plt.plot(sol.t, sol.y[0], 'm.', sol.t, np.cos(sol.t), 'c-', LineWidth = 2)\n",
        "plt.legend(('numeric','analytic'))\n",
        "plt.title('I solved it!'); "
      ],
      "metadata": {
        "id": "LZWHoftYrvkD"
      },
      "execution_count": null,
      "outputs": []
    },
    {
      "cell_type": "markdown",
      "source": [
        "### Well that doesn't look so good! \n",
        "What happened? By default, the solver spaces the output time points too far apart. How do we fix this? By telling the solver exactly when we want the output.\n",
        "From the [documentation](https://docs.scipy.org/doc/scipy/reference/generated/scipy.integrate.solve_ivp.html), we find the optional parameter: \n",
        "\n",
        "**t_eval : array_like or None, optional**\n",
        "\n",
        "Times at which to store the computed solution, must be sorted and lie within t_span. If None (default), use points selected by the solver.\n",
        "\n",
        "So let's define a time axis with a small increment for the solver to use for output. Look over this code and run it - you don't have to edit anything. \n",
        "\n",
        "**look at how I used ```t_eval``` below** This is an example of how you use *keyword arguments* in Python. You will need to use keyword arguments to solve the next part. "
      ],
      "metadata": {
        "id": "JHmKLvIHwmyL"
      }
    },
    {
      "cell_type": "code",
      "source": [
        "ds = 0.001\n",
        "sol = solve_ivp(pendulum_derivative_function, t_span, y0, t_eval = np.arange(t_span[0],t_span[1],ds))\n",
        "plt.plot(sol.t, sol.y[0], 'm.', sol.t, np.cos(sol.t), 'c-', LineWidth = 2)\n",
        "plt.legend(('numeric','analytic'))\n",
        "plt.title ('same solution - finer output time axis'); "
      ],
      "metadata": {
        "id": "vY8Xw0zExs5q"
      },
      "execution_count": null,
      "outputs": []
    },
    {
      "cell_type": "markdown",
      "source": [
        "##Now your turn\n",
        "Solve the following intial value problem numerically\n",
        "\n",
        "$\\frac{d^2x}{dt^2} = -x$\n",
        "\n",
        "$x(0) = 0.1$\n",
        "\n",
        "$\\frac{dx}{dt}(0) = 0$\n",
        "\n",
        "in the time range (0,1000) (this is ```t_span```)\n",
        "\n",
        "Plot the numeric solution from t = 990 to t = 1000 in increments of 0.001 (this is ```t_eval```) along with the analytic solution ($x(t) = 0.1 \\cos(t)$) over the same range. Add a legend indicating \"numeric\" and \"analytic\"\n"
      ],
      "metadata": {
        "id": "0Lgj9cAsz5da"
      }
    },
    {
      "cell_type": "code",
      "source": [
        "##your code here"
      ],
      "metadata": {
        "id": "ZUa7oEpo0ttq"
      },
      "execution_count": null,
      "outputs": []
    },
    {
      "cell_type": "markdown",
      "source": [
        "#More solver options - algorithm and precision\n",
        "OK, so if you did what I did, you'll see that by the time you get to s = 1000, then numeric solution has diverged slightly from the analytic solution. It didn't blow up like before, but there is a phase shift - the numeric solution gets a little bit ahead. \n",
        "\n",
        "What can we do to fix these problems?\n",
        "\n",
        "The solver offers a bunch of choices for algorithms. The default is 'RK45' which is an `Explicit Runge-Kutta method of order 5.' Another choice is ‘DOP853’: Explicit Runge-Kutta method of order 8. 8 is bigger than 5, so let's try that!\n",
        "\n",
        "Rewrite your code adding the keyword argument\n",
        "```\n",
        "method = 'DOP853'\n",
        "```\n",
        "to the solver call\n",
        "\n",
        "Plot the new solution along with the analytic (cosine) solution from time 990 to 1000 in steps of 0.001"
      ],
      "metadata": {
        "id": "FMb-eYjs28Er"
      }
    },
    {
      "cell_type": "code",
      "source": [
        "##your code here"
      ],
      "metadata": {
        "id": "6IUC4Hkw4Rrj"
      },
      "execution_count": null,
      "outputs": []
    },
    {
      "cell_type": "markdown",
      "source": [
        "You can tell the solver how much error (estimated by the solver) you are willing to tolerate using the 'rtol' and 'atol' arguments. 'rtol' is the relative tolerance (dy/y) while 'atol' is the absolute tolerance (dy). The defaults are 'rtol' = 1e-3 and 'atol' = 1e-6. Since the errors are at each step of the solver, they can accumulate over time. Try again adding the flags\n",
        "```\n",
        "rtol = 1e-9, atol = 1e-9\n",
        "```"
      ],
      "metadata": {
        "id": "Cf_Uk6qYtsD_"
      }
    },
    {
      "cell_type": "code",
      "source": [
        "##your code here"
      ],
      "metadata": {
        "id": "u7YhNV4ZuVY2"
      },
      "execution_count": null,
      "outputs": []
    },
    {
      "cell_type": "markdown",
      "source": [
        "Now try using the implicit methods 'BDF' and 'Radau.' Make separate plots for each (along with the cos solution) and title the plots with the name of the method. Leave rtol and atol at their default values\n"
      ],
      "metadata": {
        "id": "n8GuB8Xc4fUS"
      }
    },
    {
      "cell_type": "code",
      "source": [
        "##your code here\n"
      ],
      "metadata": {
        "id": "MNlcBQS44-8b"
      },
      "execution_count": null,
      "outputs": []
    },
    {
      "cell_type": "markdown",
      "source": [
        "###Compare DOP853 and Radau\n",
        "\n",
        "Solve the system using the DOP853 and Radau fitters with rtol and atol = 1e-9. From each fit subtract off the true cosine solution and plot the difference in the time window 990 to 1000 in steps of 0.001.\n",
        "\n",
        "When you run the cell, there will be a little green arrow the left of the command that's running. Pay attention to which command takes the longest. Does the more accurate solver end up taking longer to run?\n"
      ],
      "metadata": {
        "id": "5AABCocauc8f"
      }
    },
    {
      "cell_type": "code",
      "source": [
        "##your code here"
      ],
      "metadata": {
        "id": "moZUuO7Zu9rf"
      },
      "execution_count": null,
      "outputs": []
    },
    {
      "cell_type": "markdown",
      "source": [
        "#Now let's calcuate the period\n",
        "\n",
        "As you know from doing your measurements, you can define the period as the time between two zero crossings both headed in the same direction. You could look back at your solution and try to find all the times when y[0] crosses 0 from negative to positive, but the solver actual provides a way to do this with the keyword argument events\n",
        "\n",
        "**events : callable, or list of callables, optional**\n",
        "\n",
        "Events to track. If None (default), no events will be tracked. Each event occurs at the zeros of a continuous function of time and state. Each function must have the signature event(t, y) and return a float. The solver will find an accurate value of t at which event(t, y(t)) = 0 using a root-finding algorithm. By default, all zeros will be found. The solver looks for a sign change over each step, so if multiple zero crossings occur within one step, events may be missed. Additionally each event function might have the following attributes:\n",
        "\n",
        "terminal: bool, optional\n",
        "\n",
        "Whether to terminate integration if this event occurs. Implicitly False if not assigned.\n",
        "\n",
        "direction: float, optional\n",
        "\n",
        "Direction of a zero crossing. If direction is positive, event will only trigger when going from negative to positive, and vice versa if direction is negative. If 0, then either direction will trigger event. Implicitly 0 if not assigned.\n",
        "\n",
        "You can assign attributes like event.terminal = True to any function in Python.\n",
        "\n",
        "\n",
        "\n",
        "This is a whole lot to read, so I'm just going to write the function for you\n",
        "\n",
        "```\n",
        "def pos_zcr (t,y): return y[0]\n",
        "pos_zcr.direction = 1\n",
        "```\n",
        "\n",
        "if you pass \n",
        "```\n",
        "events = pos_zcr\n",
        "```\n",
        "to the solver, then the times of all the positive zero crossings will be stored in sol.t_events. The average spacing between these times is the period. Let me show you how it works\n"
      ],
      "metadata": {
        "id": "IR0nSxJxACgU"
      }
    },
    {
      "cell_type": "code",
      "source": [
        "def pos_zcr (t,y): return y[0]\n",
        "pos_zcr.direction = 1\n",
        "sol = solve_ivp(pendulum_derivative_function, (0,100), y0,events = pos_zcr)\n",
        "print (\"period is: \", np.mean(np.diff(sol.t_events)))\n",
        "print (\"period/pi is: \", np.mean(np.diff(sol.t_events))/np.pi)\n",
        "print (\"fractional error is: \", (np.mean(np.diff(sol.t_events))-2*np.pi)/(2*np.pi))\n"
      ],
      "metadata": {
        "id": "uF2pzXoAzBpe"
      },
      "execution_count": null,
      "outputs": []
    },
    {
      "cell_type": "markdown",
      "source": [
        "Now you take a try playing with the solver options (e.g. rtol, atol, using different it methods). See if you can get the fractional error under 10^-8. "
      ],
      "metadata": {
        "id": "wBQ2X6Oy1Yao"
      }
    },
    {
      "cell_type": "code",
      "source": [
        "##your code here"
      ],
      "metadata": {
        "id": "HXEp701X1yHo"
      },
      "execution_count": null,
      "outputs": []
    },
    {
      "cell_type": "markdown",
      "source": [
        "Now write a function ```numerical_period(amplitude)``` that calculates the period to a relative accuracy of at least 10^-8 for a given amplitude of the pendulum. (If amplitude = a, then start with y0 = (a,0)). Use this function to calculate the period for a starting amplitude of 0.01, 0.1, and 1. Does the period depend on amplitude? "
      ],
      "metadata": {
        "id": "-40-VKcI10HW"
      }
    },
    {
      "cell_type": "code",
      "source": [
        "def numerical_period(amplitude):\n",
        " ##your code here\n",
        "print(numerical_period(0.01))\n",
        "print(numerical_period(0.1))\n",
        "print(numerical_period(1))"
      ],
      "metadata": {
        "colab": {
          "base_uri": "https://localhost:8080/"
        },
        "id": "I3ZTTLQuKmqA",
        "outputId": "1704212c-b4f0-4208-9ccf-8b6b9ed93e23"
      },
      "execution_count": null,
      "outputs": [
        {
          "output_type": "stream",
          "name": "stdout",
          "text": [
            "6.283185540540843\n",
            "6.283185318696817\n",
            "6.2831853079159865\n"
          ]
        }
      ]
    },
    {
      "cell_type": "markdown",
      "source": [
        "#Now, let's find how the period of the *real pendulum* changes with length \n",
        "\n",
        "The real pendulum obeys the differential equation\n",
        "\n",
        "$\\frac{d^2 \\theta}{d t^2} = -\\omega^2 \\sin(\\theta)$\n",
        "\n",
        "where\n",
        "\n",
        "$\\theta = \\frac{x}{L}$\n",
        "\n",
        "\n",
        "If the pendulum has amplitude $a$, you can rewrite this as an initial value problem\n",
        "\n",
        "$\\frac{d \\theta}{d s} = \\dot{\\theta}$\n",
        "\n",
        "$\\frac{d \\dot{\\theta}}{d s} = -\\sin(\\theta)$\n",
        "\n",
        "$\\theta(0) = \\frac{a}{L}$\n",
        "\n",
        "$\\dot{\\theta}(0) = 0$\n",
        "\n",
        "$s = \\omega t$\n",
        "\n",
        "Please do the following:\n",
        "\n",
        "1. Write a derivative function ```real_pendulum_derivative_function``` that modifies ```pendulum_derivative_function``` \n",
        "1. Find the solution to the initial value problem with amplitude $\\frac{a}{L} = 0.3$ over the time range s = 0 to 30 in increments of 0.001. \n",
        "  1. Plot the solution along with the linearized solution $0.3 \\cos(s)$\n",
        "  1. On a separate graph, plot the real solution minus the linearized solution ($0.3 \\cos(s)$)\n",
        "1. Write a function that finds the period of the real pendulum as a function of amplitude\n",
        "1. Calculate the period/$2 \\pi$ vs. $\\frac{a}{L}$ for a = (0.01 to .3) in steps of 0.01. \n",
        "  1. Store the calculated periods in a numpy array called ```period``` and store the range of amplitudes in a numpy array called ```amplitude```\n",
        "  1. Plot period/$2\\pi$ vs. amplitude (Hint, do the plotting excercises in a different cell from the calculations so you don't have to keep rerunning the time consuming bits)\n",
        "  1. Define ```rdp``` (relative delta p) as $\\frac{period - 2\\pi}{2\\pi}$. \n",
        "  1. On a new plot, plot rdp (with blue circles) vs. amplitude. On the same plot, plot the curve $\\frac{1}{16}$ amplitude$^2$ as a red line. \n",
        "  1. *Optional Challenge:* use [np.polyfit](https://numpy.org/doc/stable/reference/generated/numpy.polyfit.html) to fit the relation between rdp and amplitude. Is the relation rdp = $\\frac{1}{16}$ amplitude$^2$ correct?\n",
        "  1. Based on your simulations, predict the change in the period of *your pendulum* if you measure it at an amplitude of 10 cm vs. 5 cm.  "
      ],
      "metadata": {
        "id": "vHX04CZvLnHO"
      }
    },
    {
      "cell_type": "code",
      "source": [
        "##your code here"
      ],
      "metadata": {
        "id": "n7yysfgqbuks"
      },
      "execution_count": null,
      "outputs": []
    }
  ]
}